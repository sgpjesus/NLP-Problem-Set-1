{
 "cells": [
  {
   "cell_type": "markdown",
   "metadata": {},
   "source": [
    "# Libraries and packages"
   ]
  },
  {
   "cell_type": "code",
   "execution_count": null,
   "metadata": {
    "collapsed": true
   },
   "outputs": [],
   "source": [
    "import pandas as pd\n",
    "import csv\n",
    "import numpy as np\n",
    "import matplotlib.pyplot as plt\n",
    "import nltk\n",
    "import scipy\n",
<<<<<<< HEAD:Problem(presentable).ipynb
    "import time\n",
    "import spacy\n",
    "import sklearn as skl"
=======
    "import time"
>>>>>>> 50cfec22b5f1105dd5a39b863121425128f3002c:Untitled1.ipynb
   ]
  },
  {
   "cell_type": "code",
   "execution_count": null,
   "metadata": {
    "collapsed": true
   },
   "outputs": [],
   "source": [
    "from sklearn.feature_extraction.text import TfidfVectorizer, CountVectorizer\n",
    "from scipy.sparse import csr_matrix\n",
    "from sklearn.naive_bayes import MultinomialNB\n",
    "from nltk.stem import PorterStemmer\n",
    "from multiprocessing import Process\n",
    "from sklearn.linear_model import LogisticRegression\n",
    "from spacy.tokenizer import Tokenizer\n",
    "from spacy.vocab import Vocab\n",
    "from spacy.language import Language"
   ]
  },
  {
   "cell_type": "markdown",
   "metadata": {},
   "source": [
    "# Data"
   ]
  },
  {
   "cell_type": "code",
<<<<<<< HEAD:Problem(presentable).ipynb
=======
   "execution_count": 3,
   "metadata": {},
   "outputs": [],
   "source": [
    "nlp = Language(Vocab())\n",
    "tokenizer = Tokenizer(nlp.vocab)\n",
    "def tokenization_process(string):\n",
    "    aux = tokenizer(string)\n",
    "    output = list()\n",
    "    for word in aux:\n",
    "        output.append(str(word))\n",
    "    return output"
   ]
  },
  {
   "cell_type": "code",
>>>>>>> 50cfec22b5f1105dd5a39b863121425128f3002c:Untitled1.ipynb
   "execution_count": null,
   "metadata": {
    "collapsed": true
   },
<<<<<<< HEAD:Problem(presentable).ipynb
=======
   "outputs": [],
   "source": [
    "print(type(nltk.word_tokenize(Traintable.iloc[0].comment_text)[0]))\n",
    "tokenization_process(Traintable.iloc[0].comment_text)"
   ]
  },
  {
   "cell_type": "code",
   "execution_count": 34,
   "metadata": {},
>>>>>>> 50cfec22b5f1105dd5a39b863121425128f3002c:Untitled1.ipynb
   "outputs": [],
   "source": [
    "Traintable = pd.read_csv('Recursos/comments_toxicos/Dados/train.csv')\n",
    "Testtable = pd.read_csv('Recursos/comments_toxicos/Dados/test.csv')\n",
    "subm = pd.read_csv('Recursos/comments_toxicos/Dados/sample_submission.csv')"
   ]
  },
  {
   "cell_type": "code",
   "execution_count": null,
   "metadata": {
    "collapsed": true
   },
   "outputs": [],
   "source": [
    "label_cols = ['toxic','severe_toxic','obscene','threat','insult','identity_hate']"
   ]
  },
  {
   "cell_type": "code",
   "execution_count": null,
   "metadata": {
    "collapsed": true
   },
   "outputs": [],
   "source": [
    "RawX = Traintable.comment_text\n",
    "RawX_test = Testtable.comment_text"
   ]
  },
  {
   "cell_type": "code",
   "execution_count": null,
   "metadata": {
    "collapsed": true
   },
   "outputs": [],
   "source": [
    "RawY = list()\n",
    "for label in label_cols:\n",
    "    RawY.append(Traintable[label])"
   ]
  },
  {
   "cell_type": "markdown",
   "metadata": {},
   "source": [
    "# Data analysis"
   ]
  },
  {
   "cell_type": "code",
   "execution_count": null,
   "metadata": {
    "collapsed": true
   },
   "outputs": [],
   "source": [
    "count = (Traintable.toxic + Traintable.severe_toxic + Traintable.insult + Traintable.threat\n",
    "         + Traintable.obscene + Traintable.identity_hate)"
   ]
  },
  {
   "cell_type": "code",
   "execution_count": null,
   "metadata": {
    "collapsed": true
   },
   "outputs": [],
   "source": [
    "Traintable['sum'] = count"
   ]
  },
  {
   "cell_type": "code",
   "execution_count": null,
   "metadata": {
    "collapsed": true,
    "scrolled": true
   },
   "outputs": [],
   "source": [
    "print(Traintable[Traintable.comment_text == ''].shape[0])\n",
    "print(Testtable[Testtable.comment_text == ''].shape[0])"
   ]
  },
  {
   "cell_type": "code",
   "execution_count": null,
   "metadata": {
    "collapsed": true
   },
   "outputs": [],
   "source": [
    "Traintable['comment_text'].fillna('Text Missing', inplace=True)\n",
    "Testtable['comment_text'].fillna('Text Missing', inplace=True)"
   ]
  },
  {
   "cell_type": "markdown",
   "metadata": {},
   "source": [
    "#### *Uppercase Count*"
   ]
  },
  {
   "cell_type": "code",
<<<<<<< HEAD:Problem(presentable).ipynb
   "execution_count": null,
   "metadata": {
    "collapsed": true
   },
=======
   "execution_count": 58,
   "metadata": {},
>>>>>>> 50cfec22b5f1105dd5a39b863121425128f3002c:Untitled1.ipynb
   "outputs": [],
   "source": [
    "def count_upper_norm(X):\n",
    "    uppercasecount = list()\n",
    "    for i in range(X.shape[0]):\n",
    "        comment = X[i]\n",
    "        count = 0\n",
    "        charcount = 0\n",
    "        for character in comment:\n",
    "            if character.isupper():\n",
    "                count += 1 \n",
    "        uppercasecount.append(count/len(comment))\n",
    "    return uppercasecount"
   ]
  },
  {
   "cell_type": "code",
<<<<<<< HEAD:Problem(presentable).ipynb
   "execution_count": null,
   "metadata": {
    "collapsed": true
   },
=======
   "execution_count": 59,
   "metadata": {},
>>>>>>> 50cfec22b5f1105dd5a39b863121425128f3002c:Untitled1.ipynb
   "outputs": [],
   "source": [
    "Traintable['uppercase_count_norm'] = count_upper_norm(Traintable.comment_text)"
   ]
  },
  {
   "cell_type": "code",
<<<<<<< HEAD:Problem(presentable).ipynb
   "execution_count": null,
   "metadata": {
    "collapsed": true
   },
=======
   "execution_count": 60,
   "metadata": {},
>>>>>>> 50cfec22b5f1105dd5a39b863121425128f3002c:Untitled1.ipynb
   "outputs": [],
   "source": [
    "Testtable['uppercase_count_norm'] = count_upper_norm(Testtable.comment_text)"
   ]
  },
  {
   "cell_type": "markdown",
   "metadata": {},
   "source": [
    "#### *Swear Count*"
   ]
  },
  {
   "cell_type": "code",
<<<<<<< HEAD:Problem(presentable).ipynb
   "execution_count": null,
   "metadata": {
    "collapsed": true
   },
   "outputs": [],
   "source": [
    "nlp = Language(Vocab()) \n",
    "tokenizer = Tokenizer(nlp.vocab)\n",
    "def tokenization_process(string):\n",
    "    aux = tokenizer(string)\n",
    "    output = list()\n",
    "    for word in aux:\n",
    "        output.append(str(word))\n",
    "    return output "
   ]
  },
  {
   "cell_type": "code",
   "execution_count": null,
   "metadata": {
    "collapsed": true
   },
=======
   "execution_count": 61,
   "metadata": {},
>>>>>>> 50cfec22b5f1105dd5a39b863121425128f3002c:Untitled1.ipynb
   "outputs": [],
   "source": [
    "with open('Recursos/comments_toxicos/full-list-of-bad-words-banned-by-google.csv') as f:\n",
    "    reader = csv.reader(f)\n",
    "    swearsBoW = list(reader)\n",
    "for i in range(1,len(swearsBoW)):\n",
    "    for word in swearsBoW[i]:\n",
    "            swearsBoW[0].append(word)\n",
    "swearsBoW = swearsBoW[0]\n",
    "newlist = list()\n",
    "swearsBoW_stemm = list()\n",
    "ps = PorterStemmer()\n",
    "for word in swearsBoW:\n",
    "    newword = word.strip()\n",
    "    newword2 = newword.lower()\n",
    "    newlist.append(newword2)\n",
    "    swearsBoW_stemm.append(ps.stem(newword2))\n",
    "swearsBoW = newlist"
   ]
  },
  {
   "cell_type": "code",
<<<<<<< HEAD:Problem(presentable).ipynb
   "execution_count": null,
   "metadata": {
    "collapsed": true
   },
=======
   "execution_count": 62,
   "metadata": {},
>>>>>>> 50cfec22b5f1105dd5a39b863121425128f3002c:Untitled1.ipynb
   "outputs": [],
   "source": [
    "def swear_count_norm(comments):\n",
    "    swear_count = list()\n",
    "    wordlist = [tokenizer(comment.lower()) for comment in comments]\n",
    "    print('tokenized')\n",
    "    for sentence in wordlist:\n",
    "        try:  \n",
    "            x = [1 for word in sentence if str(word) in swearsBoW or \n",
    "                 ps.stem(str(word)) in swearsBoW_stemm]\n",
    "        except:\n",
    "            x = [0]\n",
    "        swear_count.append(float(sum(x)/len(sentence)))\n",
    "    return swear_count"
   ]
  },
  {
   "cell_type": "code",
<<<<<<< HEAD:Problem(presentable).ipynb
   "execution_count": null,
=======
   "execution_count": 63,
>>>>>>> 50cfec22b5f1105dd5a39b863121425128f3002c:Untitled1.ipynb
   "metadata": {},
   "outputs": [],
   "source": [
    "Traintable['swear_count_norm'] = swear_count_norm(Traintable.comment_text)"
   ]
  },
  {
   "cell_type": "code",
<<<<<<< HEAD:Problem(presentable).ipynb
   "execution_count": null,
=======
   "execution_count": 64,
>>>>>>> 50cfec22b5f1105dd5a39b863121425128f3002c:Untitled1.ipynb
   "metadata": {},
   "outputs": [],
   "source": [
    "Testtable['swear_count_norm'] = swear_count_norm(Testtable.comment_text)"
   ]
  },
  {
<<<<<<< HEAD:Problem(presentable).ipynb
   "cell_type": "markdown",
   "metadata": {},
   "source": [
    "#### *Tables*"
   ]
  },
  {
=======
>>>>>>> 50cfec22b5f1105dd5a39b863121425128f3002c:Untitled1.ipynb
   "cell_type": "code",
   "execution_count": null,
   "metadata": {
    "collapsed": true
   },
   "outputs": [],
   "source": [
    "Traintable[['uppercase_count_norm','sum']].groupby('sum').mean()"
   ]
  },
  {
   "cell_type": "code",
   "execution_count": null,
<<<<<<< HEAD:Problem(presentable).ipynb
=======
   "metadata": {
    "collapsed": true
   },
   "outputs": [],
   "source": [
    "Traintable[['sum','swear_count_norm']].groupby('sum').mean()"
   ]
  },
  {
   "cell_type": "code",
   "execution_count": 18,
>>>>>>> 50cfec22b5f1105dd5a39b863121425128f3002c:Untitled1.ipynb
   "metadata": {},
   "outputs": [],
   "source": [
    "Traintable[['sum','uppercase_count_norm','swear_count_norm']].groupby('sum').mean()"
   ]
  },
  {
   "cell_type": "code",
<<<<<<< HEAD:Problem(presentable).ipynb
   "execution_count": null,
   "metadata": {
    "collapsed": true
   },
   "outputs": [],
   "source": [
    "TFIDF = TfidfVectorizer(max_df= 0.8 , min_df= 2, tokenizer = tokenization_process,\n",
    "                        stop_words = 'english')"
   ]
  },
  {
   "cell_type": "code",
   "execution_count": null,
   "metadata": {
    "collapsed": true
   },
=======
   "execution_count": 36,
   "metadata": {},
>>>>>>> 50cfec22b5f1105dd5a39b863121425128f3002c:Untitled1.ipynb
   "outputs": [],
   "source": [
    "X= TFIDF.fit_transform(RawX)\n",
    "X_test = TFIDF.transform(RawX_test)"
   ]
  },
  {
   "cell_type": "code",
<<<<<<< HEAD:Problem(presentable).ipynb
   "execution_count": null,
   "metadata": {
    "collapsed": true
   },
=======
   "execution_count": 20,
   "metadata": {},
>>>>>>> 50cfec22b5f1105dd5a39b863121425128f3002c:Untitled1.ipynb
   "outputs": [],
   "source": [
    "def featureselect(Model, X, Y):\n",
    "    Model.fit(X, Y)\n",
    "    print('Model Fited')\n",
    "    featureselectmodel = SelectFromModel(Model, prefit = True)\n",
    "    NewX = featureselectmodel.transform(X)\n",
    "    return NewX"
   ]
  },
  {
   "cell_type": "code",
<<<<<<< HEAD:Problem(presentable).ipynb
   "execution_count": null,
   "metadata": {
    "collapsed": true
   },
=======
   "execution_count": 21,
   "metadata": {},
>>>>>>> 50cfec22b5f1105dd5a39b863121425128f3002c:Untitled1.ipynb
   "outputs": [],
   "source": [
    "def join_sparce_series(sparse,series):\n",
    "    aux = csr_matrix((series))\n",
    "    aux = aux.transpose()\n",
    "    return scipy.sparse.hstack([sparse,aux])"
   ]
  },
  {
   "cell_type": "code",
<<<<<<< HEAD:Problem(presentable).ipynb
   "execution_count": null,
   "metadata": {
    "collapsed": true
   },
=======
   "execution_count": 65,
   "metadata": {},
>>>>>>> 50cfec22b5f1105dd5a39b863121425128f3002c:Untitled1.ipynb
   "outputs": [],
   "source": [
    "final_train_X = join_sparce_series(X,Traintable.uppercase_count_norm)\n",
    "final_train_X = join_sparce_series(final_train_X,Traintable.swear_count_norm)\n",
    "final_test_X = join_sparce_series(X_test,Testtable.uppercase_count_norm)\n",
    "final_test_X = join_sparce_series(final_test_X,Testtable.swear_count_norm)"
   ]
  },
  {
   "cell_type": "code",
<<<<<<< HEAD:Problem(presentable).ipynb
   "execution_count": null,
   "metadata": {
    "collapsed": true
   },
=======
   "execution_count": 66,
   "metadata": {},
>>>>>>> 50cfec22b5f1105dd5a39b863121425128f3002c:Untitled1.ipynb
   "outputs": [],
   "source": [
    "final_train_X = scipy.sparse.csr_matrix(final_train_X)\n",
    "final_test_X = scipy.sparse.csr_matrix(final_test_X)"
   ]
  },
  {
   "cell_type": "code",
<<<<<<< HEAD:Problem(presentable).ipynb
   "execution_count": null,
   "metadata": {
    "collapsed": true
   },
=======
   "execution_count": 45,
   "metadata": {},
>>>>>>> 50cfec22b5f1105dd5a39b863121425128f3002c:Untitled1.ipynb
   "outputs": [],
   "source": [
    "logisticmodel = LogisticRegression(C=4, dual=True)"
   ]
  },
  {
   "cell_type": "code",
<<<<<<< HEAD:Problem(presentable).ipynb
   "execution_count": null,
   "metadata": {
    "collapsed": true
   },
=======
   "execution_count": 46,
   "metadata": {},
>>>>>>> 50cfec22b5f1105dd5a39b863121425128f3002c:Untitled1.ipynb
   "outputs": [],
   "source": [
    "Prediction = pd.DataFrame()\n",
    "preds = np.zeros((len(Testtable), len(label_cols)))\n",
    "for i,j in enumerate(label_cols):\n",
    "    logisticmodel.fit(final_train_X, Traintable[j])\n",
    "    preds[:,i] = logisticmodel.predict_proba(final_test_X)[:,1]"
   ]
  },
  {
   "cell_type": "code",
<<<<<<< HEAD:Problem(presentable).ipynb
   "execution_count": null,
   "metadata": {
    "collapsed": true
   },
=======
   "execution_count": 47,
   "metadata": {},
>>>>>>> 50cfec22b5f1105dd5a39b863121425128f3002c:Untitled1.ipynb
   "outputs": [],
   "source": [
    "Prediction = pd.DataFrame(Testtable['id'])\n",
    "Prediction = pd.concat([Prediction, pd.DataFrame(preds, columns = label_cols)], axis= 1)\n",
    "Prediction.to_csv('submission.csv', index = False)"
   ]
  },
  {
   "cell_type": "code",
   "execution_count": null,
   "metadata": {
    "collapsed": true
   },
   "outputs": [],
   "source": [
    "final_train_X.shape"
   ]
  },
  {
   "cell_type": "code",
   "execution_count": null,
   "metadata": {
    "collapsed": true
   },
   "outputs": [],
   "source": [
    "print(final_train_X.shape)\n",
    "print(final_test_X.shape)"
   ]
  },
  {
   "cell_type": "code",
   "execution_count": null,
   "metadata": {
    "collapsed": true
   },
   "outputs": [],
   "source": [
    "model = MultinomialNB()"
   ]
  },
  {
   "cell_type": "code",
   "execution_count": null,
   "metadata": {
    "collapsed": true
   },
   "outputs": [],
   "source": [
    "model.fit(final_train_X,RawY[0])"
   ]
  },
  {
   "cell_type": "code",
   "execution_count": null,
   "metadata": {
    "collapsed": true
   },
   "outputs": [],
   "source": [
    "model.feature_log_prob_"
   ]
  },
  {
   "cell_type": "markdown",
   "metadata": {},
   "source": [
    "### Jeremy's NBSVM"
   ]
  },
  {
   "cell_type": "code",
<<<<<<< HEAD:Problem(presentable).ipynb
   "execution_count": null,
   "metadata": {
    "collapsed": true
   },
=======
   "execution_count": 67,
   "metadata": {},
>>>>>>> 50cfec22b5f1105dd5a39b863121425128f3002c:Untitled1.ipynb
   "outputs": [],
   "source": [
    "def pr(y_i, y):\n",
    "    p = final_train_X[y==y_i].sum(0)\n",
    "    return (p+1) / ((y==y_i).sum()+1)"
   ]
  },
  {
   "cell_type": "code",
<<<<<<< HEAD:Problem(presentable).ipynb
   "execution_count": null,
   "metadata": {
    "collapsed": true
   },
=======
   "execution_count": 68,
   "metadata": {},
>>>>>>> 50cfec22b5f1105dd5a39b863121425128f3002c:Untitled1.ipynb
   "outputs": [],
   "source": [
    "def get_mdl(y):\n",
    "    y = y.values\n",
    "    r = np.log(pr(1,y) / pr(0,y))\n",
    "    print(r.shape)\n",
    "    print(X.shape)\n",
    "    m = LogisticRegression(C=4, dual=True)\n",
    "    x_nb = final_train_X.multiply(r)\n",
    "    return m.fit(x_nb, y), r"
   ]
  },
  {
   "cell_type": "code",
   "execution_count": 69,
   "metadata": {},
   "outputs": [
    {
     "name": "stdout",
     "output_type": "stream",
     "text": [
      "fit toxic\n",
      "(1, 426007)\n",
      "(159571, 426005)\n",
      "fit severe_toxic\n",
      "(1, 426007)\n",
      "(159571, 426005)\n",
      "fit obscene\n",
      "(1, 426007)\n",
      "(159571, 426005)\n",
      "fit threat\n",
      "(1, 426007)\n",
      "(159571, 426005)\n",
      "fit insult\n",
      "(1, 426007)\n",
      "(159571, 426005)\n",
      "fit identity_hate\n",
      "(1, 426007)\n",
      "(159571, 426005)\n"
     ]
    }
   ],
   "source": [
    "preds = np.zeros((len(Testtable), len(label_cols)))\n",
    "\n",
    "for i, j in enumerate(label_cols):\n",
    "    print('fit', j)\n",
    "    m,r = get_mdl(Traintable[j])\n",
    "    preds[:,i] = m.predict_proba(final_test_X.multiply(r))[:,1]"
   ]
  },
  {
   "cell_type": "code",
   "execution_count": 70,
   "metadata": {},
   "outputs": [],
   "source": [
    "submid = pd.DataFrame({'id': subm[\"id\"]})\n",
    "submission = pd.concat([submid, pd.DataFrame(preds, columns = label_cols)], axis=1)\n",
    "submission.to_csv('submission.csv', index=False)"
   ]
  },
  {
   "cell_type": "code",
   "execution_count": null,
   "metadata": {
    "collapsed": true
   },
   "outputs": [],
   "source": [
    "Var = final_train_X.multiply(np.log(pr(1,RawY[0])/pr(0,RawY[0])))"
   ]
  },
  {
   "cell_type": "code",
   "execution_count": null,
   "metadata": {
    "collapsed": true
   },
   "outputs": [],
   "source": [
    "print(Var)\n",
    "print(model.class_prior)"
   ]
  },
  {
   "cell_type": "code",
   "execution_count": null,
   "metadata": {
    "collapsed": true
   },
   "outputs": [],
   "source": [
    "scipy.sparse.csr_matrix(final_train_X)"
   ]
  },
  {
   "cell_type": "code",
   "execution_count": null,
   "metadata": {
    "collapsed": true
   },
   "outputs": [],
   "source": [
    "type(final_train_X)"
   ]
  },
  {
   "cell_type": "code",
   "execution_count": null,
   "metadata": {
    "collapsed": true
   },
   "outputs": [],
   "source": [
    "a = (1,2,3)\n",
    "b = [1,2,3]"
   ]
  },
  {
   "cell_type": "code",
   "execution_count": null,
   "metadata": {
    "collapsed": true
   },
   "outputs": [],
   "source": [
    "b[0] = 25"
   ]
  },
  {
   "cell_type": "code",
   "execution_count": null,
   "metadata": {
    "collapsed": true
   },
   "outputs": [],
   "source": [
    "b"
   ]
  },
  {
   "cell_type": "code",
   "execution_count": null,
   "metadata": {
    "collapsed": true
   },
   "outputs": [],
   "source": [
    "x = [ 1 for i in range(1,3)]\n",
    "sum(x)"
   ]
  },
  {
   "cell_type": "code",
   "execution_count": null,
   "metadata": {
    "collapsed": true
   },
   "outputs": [],
   "source": [
    "len(x)"
   ]
  },
  {
   "cell_type": "markdown",
   "metadata": {},
   "source": [
    "###### Tabela pequena de testes"
   ]
  },
  {
   "cell_type": "code",
   "execution_count": null,
   "metadata": {
    "collapsed": true
   },
   "outputs": [],
   "source": [
    "Smalltable = Traintable.iloc[range(0,int(Traintable.shape[0]/100))]"
   ]
  },
  {
   "cell_type": "code",
   "execution_count": null,
   "metadata": {
    "collapsed": true
   },
   "outputs": [],
   "source": [
    "swear_count_norm(Smalltable.comment_text)"
   ]
  },
  {
   "cell_type": "code",
   "execution_count": null,
   "metadata": {
    "collapsed": true
   },
   "outputs": [],
   "source": [
    "Smalltable.iloc[295].comment_text"
   ]
  },
  {
   "cell_type": "code",
   "execution_count": null,
   "metadata": {
    "collapsed": true
   },
   "outputs": [],
   "source": [
    "Smalltable['swear_count_norm'].describe()"
   ]
  },
  {
   "cell_type": "code",
   "execution_count": null,
   "metadata": {
    "collapsed": true
   },
   "outputs": [],
   "source": [
    "Swearscount = swear_count_norm(Smalltable.comment_text)"
   ]
  },
  {
   "cell_type": "code",
   "execution_count": null,
   "metadata": {
    "collapsed": true
   },
   "outputs": [],
   "source": [
    "Smalltable.shape\n",
    "Smalltable['comment_text']\n",
    "type(Smalltable['comment_text'])\n",
    "i = 0\n",
    "for comment in Smalltable['comment_text']:\n",
    "    if i == 1:\n",
    "        break\n",
    "    i = 1\n",
    "    print(type(comment))\n"
   ]
  },
  {
   "cell_type": "code",
   "execution_count": null,
   "metadata": {
    "collapsed": true
   },
   "outputs": [],
   "source": [
    "Smalltable['swear_count_norm'] = Swearscount"
   ]
  },
  {
   "cell_type": "code",
   "execution_count": null,
   "metadata": {
    "collapsed": true
   },
   "outputs": [],
   "source": [
    "Traintable['swear_count_norm'] = swear_count_norm(Traintable.comment_text)"
   ]
  },
  {
   "cell_type": "code",
   "execution_count": null,
   "metadata": {
    "collapsed": true
   },
   "outputs": [],
   "source": [
    "type(f.value)"
   ]
  },
  {
   "cell_type": "code",
   "execution_count": null,
   "metadata": {
    "collapsed": true
   },
   "outputs": [],
   "source": [
    "x = [Traintable.iloc[int(f.value)].comment_text, Traintable.iloc[1].comment_text]"
   ]
  },
  {
   "cell_type": "code",
   "execution_count": null,
   "metadata": {
    "collapsed": true
   },
   "outputs": [],
   "source": [
    "swear_count_norm(x)"
   ]
  },
  {
   "cell_type": "code",
   "execution_count": null,
   "metadata": {
    "collapsed": true
   },
   "outputs": [],
   "source": []
  },
  {
   "cell_type": "code",
   "execution_count": null,
   "metadata": {
    "collapsed": true
   },
   "outputs": [],
   "source": [
    "Tokenizer?"
   ]
  },
  {
   "cell_type": "code",
   "execution_count": null,
   "metadata": {
    "collapsed": true
   },
   "outputs": [],
   "source": [
    " tokenizer = Tokenizer(Vocab)"
   ]
  },
  {
   "cell_type": "code",
   "execution_count": null,
   "metadata": {
    "collapsed": true
   },
   "outputs": [],
   "source": [
    "import nlp"
   ]
  },
  {
   "cell_type": "code",
   "execution_count": null,
   "metadata": {
    "collapsed": true
   },
   "outputs": [],
   "source": [
    "Tokenizer?"
   ]
  },
  {
   "cell_type": "code",
   "execution_count": null,
   "metadata": {
    "collapsed": true
   },
   "outputs": [],
   "source": [
    "from spacy.vocab import Vocab"
   ]
  },
  {
   "cell_type": "code",
   "execution_count": null,
   "metadata": {
    "collapsed": true
   },
   "outputs": [],
   "source": [
    "Vocab?"
   ]
  },
  {
   "cell_type": "code",
   "execution_count": null,
   "metadata": {
    "collapsed": true
   },
   "outputs": [],
   "source": [
    "Comments = Smalltable.comment_text\n",
    "time0 = time.time()\n",
    "wordlist = [tokenizer(comment) for comment in Comments]\n",
    "time1 = time.time()\n",
    "print(time1-time0)\n",
    "wordlist = [nltk.word_tokenize(comment) for comment in Comments]\n",
    "time2 = time.time()\n",
    "print(time2-time1)"
   ]
  },
  {
   "cell_type": "code",
   "execution_count": null,
   "metadata": {
    "collapsed": true
   },
   "outputs": [],
   "source": [
    "Traintable.swear_count_norm.describe()"
   ]
  },
  {
   "cell_type": "code",
   "execution_count": null,
   "metadata": {
    "collapsed": true
   },
   "outputs": [],
   "source": [
    "def CBTW_vec(Term_Frequency_Matrix, Y):\n",
    "    A , B , C = [list(),list(),list()]\n",
    "    aux = time.time()\n",
    "    aux2=0\n",
    "    Y = Y.values\n",
    "    for column in range(Term_Frequency_Matrix.shape[1]):\n",
    "        aux_table = Term_Frequency_Matrix[:,column].toarray().flatten()\n",
    "        A.append((Y[aux_table !=0].sum())+1)\n",
    "        auxY = Y[aux_table !=0]\n",
    "        B.append((auxY.shape[0]-np.count_nonzero(auxY))+1)\n",
    "        C.append((Y[aux_table != 0].sum())+1)              \n",
    "        aux2 += 1\n",
    "        if aux2 % 100 == 0:\n",
    "            print(time.time()-aux)\n",
    "            aux = time.time()\n",
    "    A = np.array(A)\n",
    "    B = np.array(B)\n",
    "    C = np.array(C)    \n",
    "    return np.log(1+(A/B)*(A/C))"
   ]
  },
  {
   "cell_type": "code",
   "execution_count": null,
   "metadata": {
    "collapsed": true
   },
   "outputs": [],
   "source": [
    "TermFrequency = TF.fit_transform(RawX)"
   ]
  },
  {
   "cell_type": "code",
   "execution_count": null,
   "metadata": {
    "collapsed": true
   },
   "outputs": [],
   "source": [
    "TermFrequency.shape"
   ]
  },
  {
   "cell_type": "code",
   "execution_count": null,
   "metadata": {
    "collapsed": true
   },
   "outputs": [],
   "source": [
    "CBTW_vec(TermFrequency, RawY[0])"
   ]
  },
  {
   "cell_type": "code",
   "execution_count": null,
   "metadata": {
    "collapsed": true,
    "scrolled": true
   },
   "outputs": [],
   "source": [
    "from ipywidgets import FloatProgress\n",
    "from IPython.display import display\n",
    "f = FloatProgress(min=0, max=620924)\n",
    "display(f)"
   ]
  },
  {
   "cell_type": "code",
   "execution_count": null,
   "metadata": {
    "collapsed": true
   },
   "outputs": [],
   "source": [
    "f.value"
   ]
  },
  {
   "cell_type": "code",
   "execution_count": null,
   "metadata": {
    "collapsed": true
   },
   "outputs": [],
   "source": [
    "np.apply_over_axes"
   ]
  },
  {
   "cell_type": "code",
   "execution_count": null,
   "metadata": {
    "collapsed": true
   },
   "outputs": [],
   "source": [
    "A = np.array([[2,3,4,5],[6,7,8,9]])\n",
    "np.sum(A, axis = 1)"
   ]
  },
  {
   "cell_type": "code",
   "execution_count": null,
   "metadata": {
    "collapsed": true
   },
   "outputs": [],
   "source": [
    "x = time.time()"
   ]
  },
  {
   "cell_type": "code",
   "execution_count": null,
   "metadata": {
    "collapsed": true
   },
   "outputs": [],
   "source": [
    "x"
   ]
  },
  {
   "cell_type": "code",
   "execution_count": null,
   "metadata": {
    "collapsed": true
   },
   "outputs": [],
   "source": [
    "y = time.time()\n",
    "y"
   ]
  },
  {
   "cell_type": "code",
   "execution_count": null,
   "metadata": {
    "collapsed": true
   },
   "outputs": [],
   "source": [
    "print(y-x)"
   ]
  },
  {
   "cell_type": "code",
   "execution_count": null,
   "metadata": {
    "collapsed": true
   },
   "outputs": [],
   "source": [
    "aux = time.time()\n",
    "newtab = TF.fit_transform(Traintable.comment_text)\n",
    "print(time.time()-aux)"
   ]
  },
  {
   "cell_type": "code",
   "execution_count": null,
   "metadata": {
    "collapsed": true
   },
   "outputs": [],
   "source": [
    "TermFrequency"
   ]
  },
  {
   "cell_type": "code",
   "execution_count": 48,
   "metadata": {},
   "outputs": [],
   "source": [
    "import re, string\n",
    "re_tok = re.compile(f'([{string.punctuation}“”¨«»®´·º½¾¿¡§£₤‘’])')\n",
    "def tokenize(s): return re_tok.sub(r' \\1 ', s).split()"
   ]
  },
  {
   "cell_type": "code",
   "execution_count": 52,
   "metadata": {},
   "outputs": [],
   "source": [
    "COMMENT = 'comment_text'\n",
    "n = Traintable.shape[0]\n",
    "vec = TfidfVectorizer(ngram_range=(1,2), tokenizer=tokenize,\n",
    "               min_df=3, max_df=0.9, strip_accents='unicode', use_idf=1,\n",
    "               smooth_idf=1, sublinear_tf=1 )\n",
    "trn_term_doc = vec.fit_transform(Traintable[COMMENT])\n",
    "test_term_doc = vec.transform(Testtable[COMMENT])"
   ]
  },
  {
   "cell_type": "code",
   "execution_count": 53,
   "metadata": {},
   "outputs": [],
   "source": [
    "X = trn_term_doc\n",
    "X_test = test_term_doc"
   ]
  },
  {
   "cell_type": "code",
   "execution_count": null,
   "metadata": {
    "collapsed": true
   },
   "outputs": [],
   "source": [
    "graphx = [0,1,2,3,4,5,6]\n",
    "graphy1 = [0.044897,0.094012,0.096525,0.114260,0.172056,0.200361,0.222209]\n",
    "graphy2 = [0.000664,0.013162,0.037486,0.068910,0.111679,0.138142,0.105110]"
   ]
  },
  {
   "cell_type": "code",
   "execution_count": null,
   "metadata": {},
   "outputs": [],
   "source": [
    "plt.scatter(graphx,graphy2, color=\"white\")\n",
    "plt.plot(graphx, graphy2, color=\"white\")\n",
    "labelx = plt.xlabel('Nº de Infrações')\n",
    "plt.rcParams['axes.facecolor'] = '#242424'\n",
    "labely = plt.ylabel('Nº de palavras proibidas(normalizado)')\n",
    "labelx.set_color('white')\n",
    "labely.set_color('white')\n",
    "ticksx = plt.xticks(color = \"white\")\n",
    "ticksy = plt.yticks(color = \"white\")\n",
    "plt.show()"
   ]
  },
  {
   "cell_type": "code",
   "execution_count": null,
   "metadata": {
    "collapsed": true
   },
   "outputs": [],
   "source": [
    "def toptokens(Tfidfmatrix, tokens, n=5):\n",
    "    npmatrix = Tfidfmatrix.toarray()\n",
    "    npmatrix[npmatrix == 0] = np.nan\n",
    "    npmeans = np.nanmean(npmatrix, axis = 0)\n",
    "    ordered_ids = np.argsort(npmeans)[::-1] \n",
    "    clean_ids = ordered_ids[(np.isnan(npmeans).sum()):]\n",
    "    top_ids = clean_ids[:n]\n",
    "    toptoken = [(tokens[i], npmeans[i]) for i in top_ids]\n",
    "    df = pd.DataFrame(toptoken)\n",
    "    df.columns = ['feature', 'TF-IDF']\n",
    "    return df"
   ]
  },
  {
   "cell_type": "code",
   "execution_count": null,
   "metadata": {},
   "outputs": [],
   "source": [
    "toptokens(X6,Features, n = 10)"
   ]
  },
  {
   "cell_type": "code",
   "execution_count": null,
   "metadata": {
    "collapsed": true
   },
   "outputs": [],
   "source": [
    "X6 = TFIDF.transform(Traintable[Traintable['sum'] == 6]['comment_text'])\n",
    "X1 = TFIDF.transform(Traintable[Traintable['sum'] == 1]['comment_text'])"
   ]
  },
  {
   "cell_type": "code",
   "execution_count": null,
   "metadata": {},
   "outputs": [],
   "source": [
    "print(X5)"
   ]
  },
  {
   "cell_type": "code",
   "execution_count": null,
   "metadata": {},
   "outputs": [],
   "source": [
    "X5"
   ]
  },
  {
   "cell_type": "code",
   "execution_count": null,
   "metadata": {},
   "outputs": [],
   "source": [
    "Features[73709]"
   ]
  },
  {
   "cell_type": "code",
   "execution_count": null,
   "metadata": {
    "collapsed": true
   },
   "outputs": [],
   "source": [
    "CBTW_toxic = np.genfromtxt('toxic.csv', delimiter=',')"
   ]
  },
  {
   "cell_type": "code",
   "execution_count": null,
   "metadata": {},
   "outputs": [],
   "source": [
    "CBTW_toxic.shape"
   ]
  },
  {
   "cell_type": "code",
   "execution_count": null,
   "metadata": {
    "collapsed": true
   },
   "outputs": [],
   "source": [
    "CBTW_severe_toxic = np.genfromtxt('severe_toxic.csv', delimiter=',')"
   ]
  },
  {
   "cell_type": "code",
   "execution_count": null,
   "metadata": {
    "collapsed": true
   },
   "outputs": [],
   "source": [
    "CBTW_obscene = np.genfromtxt('obscene.csv', delimiter=',')"
   ]
  },
  {
   "cell_type": "code",
   "execution_count": null,
   "metadata": {
    "collapsed": true
   },
   "outputs": [],
   "source": [
    "CBTW_threat = np.genfromtxt('threat.csv', delimiter=',')"
   ]
  },
  {
   "cell_type": "code",
   "execution_count": null,
   "metadata": {
    "collapsed": true
   },
   "outputs": [],
   "source": [
    "Model = LogisticRegression()"
   ]
  },
  {
   "cell_type": "code",
   "execution_count": null,
   "metadata": {
    "collapsed": true
   },
   "outputs": [],
   "source": [
    "Count_input = TF.fit_transform(RawX)"
   ]
  },
  {
   "cell_type": "code",
   "execution_count": null,
   "metadata": {
    "collapsed": true
   },
   "outputs": [],
   "source": [
    "Count_input_test = TF.transform(RawX_test)"
   ]
  },
  {
   "cell_type": "code",
   "execution_count": null,
   "metadata": {},
   "outputs": [],
   "source": [
    "Count_input.shape"
   ]
  },
  {
   "cell_type": "markdown",
   "metadata": {},
   "source": [
    "### CBTW"
   ]
  },
  {
   "cell_type": "code",
   "execution_count": null,
   "metadata": {
    "collapsed": true
   },
   "outputs": [],
   "source": [
    "TF = CountVectorizer(max_df= 0.7 , min_df= 2, tokenizer = tokenization_process, ngram_range=(1,2),\n",
    "                     stop_words = 'english')"
   ]
  },
  {
   "cell_type": "code",
   "execution_count": null,
   "metadata": {
    "collapsed": true
   },
   "outputs": [],
   "source": [
    "def normalize_count_matrix(count_matrix):\n",
    "    aux1 = time.time()\n",
    "    lil_count_matrix = scipy.sparse.lil_matrix(count_matrix)\n",
    "    print(lil_count_matrix.shape)\n",
    "    normalized_count_matrix = scipy.sparse.lil_matrix((count_matrix.shape[0], count_matrix.shape[1]))\n",
    "    for row_id in range(lil_count_matrix.shape[0]):\n",
    "        if lil_count_matrix[row_id,:].max()!= 0:\n",
    "            normalized_count_matrix[row_id,:] = lil_count_matrix[row_id,:]/lil_count_matrix[row_id,:].max()\n",
    "            if row_id % 10000 == 0:\n",
    "                print(time.time()-aux1)\n",
    "                aux1 = time.time()\n",
    "    return normalized_count_matrix"
   ]
  },
  {
   "cell_type": "code",
   "execution_count": null,
   "metadata": {
    "collapsed": true
   },
   "outputs": [],
   "source": [
    "def CBTW_vec(Term_Frequency_Matrix, Y):\n",
    "    Y = np.array([Y]).transpose()\n",
    "    matrix_indexes = Term_Frequency_Matrix.nonzero()\n",
    "    data_indexes = np.where(Term_Frequency_Matrix.data != 0)[0]\n",
    "    n_data = len(data_indexes)\n",
    "    Unitary_matrix = csr_matrix((np.ones(n_data), (matrix_indexes[0][data_indexes], matrix_indexes[1][data_indexes])), shape=Term_Frequency_Matrix.shape)\n",
    "    A_matrix = Unitary_matrix.multiply(Y)\n",
    "    A_vector = A_matrix.sum(axis=0).transpose()\n",
    "    inverse_vec = np.abs(Y-1)\n",
    "    B_matrix = Unitary_matrix.multiply(inverse_vec)\n",
    "    B_vector = B_matrix.sum(axis=0).transpose()\n",
    "    C_vector = np.ones(A_vector.shape[1])*Y.sum()-A_vector\n",
    "    B_vector[B_vector == 0] = 0.5\n",
    "    C_vector[C_vector == 0] = 0.5\n",
    "    return np.log(1+np.multiply((A_vector/B_vector),(A_vector/C_vector)))"
   ]
  },
  {
   "cell_type": "code",
   "execution_count": null,
   "metadata": {},
   "outputs": [],
   "source": [
    "print(Count_input[5,:].max())"
   ]
  },
  {
   "cell_type": "code",
   "execution_count": null,
   "metadata": {
    "collapsed": true,
    "scrolled": true
   },
   "outputs": [],
   "source": [
    "TF_Matrix = TF.fit_transform(RawX)"
   ]
  },
  {
   "cell_type": "code",
   "execution_count": null,
   "metadata": {},
   "outputs": [],
   "source": [
    "Count_input"
   ]
  },
  {
   "cell_type": "code",
   "execution_count": null,
   "metadata": {},
   "outputs": [],
   "source": [
    "dummy = scipy.sparse.csr_matrix((Count_input.shape[0], Count_input.shape[1]))\n",
    "dummy[3,:] = Count_input[3,:]/Count_input[3,:].max()"
   ]
  },
  {
   "cell_type": "code",
   "execution_count": null,
   "metadata": {
    "collapsed": true
   },
   "outputs": [],
   "source": [
    "NTF_Matrix = scipy.sparse.csr_matrix(dummy)"
   ]
  },
  {
   "cell_type": "code",
   "execution_count": null,
   "metadata": {},
   "outputs": [],
   "source": [
    "print(NTF_Matrix)"
   ]
  },
  {
   "cell_type": "code",
   "execution_count": null,
   "metadata": {
    "collapsed": true
   },
   "outputs": [],
   "source": [
    "def save_sparse_csr(filename, array):\n",
    "    np.savez(filename, data=array.data, indices=array.indices,\n",
    "             indptr=array.indptr, shape=array.shape)"
   ]
  },
  {
   "cell_type": "code",
   "execution_count": null,
   "metadata": {
    "collapsed": true
   },
   "outputs": [],
   "source": [
    "save_sparse_csr('TFIDF_matrix',X)"
   ]
  },
  {
   "cell_type": "code",
   "execution_count": null,
   "metadata": {
    "collapsed": true
   },
   "outputs": [],
   "source": [
    "CBTW_matrix = NTF_Matrix.multiply(CBTW_toxic)"
   ]
  },
  {
   "cell_type": "code",
   "execution_count": null,
   "metadata": {},
   "outputs": [],
   "source": [
    "print(CBTW_matrix)"
   ]
  },
  {
   "cell_type": "code",
   "execution_count": null,
   "metadata": {
    "collapsed": true
   },
   "outputs": [],
   "source": [
    "def cross_validation_score(Model,X,Y, cores = -1):\n",
    "        return skl.model_selection.cross_val_score(Model, X, Y, cv = 10, n_jobs = cores, scoring= 'roc_auc').mean()"
   ]
  },
  {
   "cell_type": "code",
   "execution_count": null,
   "metadata": {},
   "outputs": [],
   "source": [
    "cross_validation_score(Model, CBTW_matrix,Traintable.toxic)"
   ]
  },
  {
   "cell_type": "code",
   "execution_count": null,
   "metadata": {},
   "outputs": [],
   "source": [
    "cross_validation_score(Model, X,Traintable.toxic)"
   ]
  },
  {
   "cell_type": "code",
   "execution_count": null,
   "metadata": {},
   "outputs": [],
   "source": [
    "print(NTF_Matrix.max())"
   ]
  },
  {
   "cell_type": "code",
   "execution_count": null,
   "metadata": {},
   "outputs": [],
   "source": [
    "scipy.stats.describe(CBTW_matrix)"
   ]
  },
  {
   "cell_type": "code",
   "execution_count": null,
   "metadata": {},
   "outputs": [],
   "source": [
    "type(CBTW_matrix)"
   ]
  },
  {
   "cell_type": "code",
   "execution_count": null,
   "metadata": {},
   "outputs": [],
   "source": [
    "print(scipy.sparse.lil_matrix(Count_input)[0,:])"
   ]
  },
  {
   "cell_type": "code",
   "execution_count": null,
   "metadata": {
    "collapsed": true
   },
   "outputs": [],
   "source": []
  }
 ],
 "metadata": {
  "kernelspec": {
   "display_name": "Python 3",
   "language": "python",
   "name": "python3"
  },
  "language_info": {
   "codemirror_mode": {
    "name": "ipython",
    "version": 3
   },
   "file_extension": ".py",
   "mimetype": "text/x-python",
   "name": "python",
   "nbconvert_exporter": "python",
   "pygments_lexer": "ipython3",
   "version": "3.6.3"
  }
 },
 "nbformat": 4,
 "nbformat_minor": 2
}
