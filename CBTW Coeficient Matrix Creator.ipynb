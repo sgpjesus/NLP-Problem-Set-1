{
 "cells": [
  {
   "cell_type": "code",
   "execution_count": 10,
   "metadata": {
    "collapsed": true
   },
   "outputs": [],
   "source": [
    "import pandas as pd\n",
    "import numpy as np\n",
    "from scipy.sparse import csr_matrix\n",
    "from sklearn.feature_extraction.text import CountVectorizer\n",
    "from spacy.tokenizer import Tokenizer\n",
    "from spacy.vocab import Vocab\n",
    "from spacy.language import Language"
   ]
  },
  {
   "cell_type": "code",
   "execution_count": 3,
   "metadata": {
    "collapsed": true
   },
   "outputs": [],
   "source": [
    "nlp = Language(Vocab())\n",
    "tokenizer = Tokenizer(nlp.vocab)\n",
    "def tokenization_process(string):\n",
    "    aux = tokenizer(string)\n",
    "    output = list()\n",
    "    for word in aux:\n",
    "        output.append(str(word))\n",
    "    return output"
   ]
  },
  {
   "cell_type": "code",
   "execution_count": 4,
   "metadata": {
    "collapsed": true
   },
   "outputs": [],
   "source": [
    "Traintable = pd.read_csv('Recursos/comments_toxicos/Dados/train.csv')"
   ]
  },
  {
   "cell_type": "code",
   "execution_count": 5,
   "metadata": {
    "collapsed": true
   },
   "outputs": [],
   "source": [
    "label_cols = ['toxic','severe_toxic','obscene','threat','insult','identity_hate']"
   ]
  },
  {
   "cell_type": "code",
   "execution_count": 6,
   "metadata": {
    "collapsed": true
   },
   "outputs": [],
   "source": [
    "TF = CountVectorizer(max_df= 0.7 , min_df= 2, tokenizer = tokenization_process, ngram_range= (1,2),\n",
    "                     stop_words = 'english')\n",
    "TermFrequency = TF.fit_transform(Traintable.comment_text)"
   ]
  },
  {
   "cell_type": "code",
   "execution_count": 74,
   "metadata": {},
   "outputs": [],
   "source": [
    "def CBTW_vec(Term_Frequency_Matrix, Y):\n",
    "    Y = np.array([Y]).transpose()\n",
    "    matrix_indexes = Term_Frequency_Matrix.nonzero()\n",
    "    data_indexes = np.where(Term_Frequency_Matrix.data != 0)[0]\n",
    "    n_data = len(data_indexes)\n",
    "    Unitary_matrix = csr_matrix((np.ones(n_data), (matrix_indexes[0][data_indexes], matrix_indexes[1][data_indexes])), shape=Term_Frequency_Matrix.shape)\n",
    "    A_matrix = Unitary_matrix.multiply(Y)\n",
    "    A_vector = A_matrix.sum(axis=0).transpose()\n",
    "    inverse_vec = np.abs(Y-1)\n",
    "    B_matrix = Unitary_matrix.multiply(inverse_vec)\n",
    "    B_vector = B_matrix.sum(axis=0).transpose()\n",
    "    C_vector = np.ones(A_vector.shape[1])*Y.sum()-A_vector\n",
    "    B_vector[B_vector == 0] = 0.5\n",
    "    C_vector[C_vector == 0] = 0.5\n",
    "    return np.squeeze(np.asarray(np.log(1+np.multiply((A_vector/B_vector),(A_vector/C_vector)))))"
   ]
  },
  {
   "cell_type": "code",
   "execution_count": 72,
   "metadata": {},
   "outputs": [],
   "source": [
    "CBTW_Matrix = np.zeros((TermFrequency.shape[1], len(label_cols)))\n",
    "for i,j in enumerate(label_cols):\n",
    "    CBTW_Matrix[:,i] = CBTW_vec(TermFrequency, Traintable[j])\n",
    "CBTW_Vectors_DF = pd.DataFrame(CBTW_Matrix, columns = label_cols)\n",
    "CBTW_Vectors_DF.to_csv('CBTW_Vectors.csv', index = False)"
   ]
  }
 ],
 "metadata": {
  "kernelspec": {
   "display_name": "Python 3",
   "language": "python",
   "name": "python3"
  },
  "language_info": {
   "codemirror_mode": {
    "name": "ipython",
    "version": 3
   },
   "file_extension": ".py",
   "mimetype": "text/x-python",
   "name": "python",
   "nbconvert_exporter": "python",
   "pygments_lexer": "ipython3",
   "version": "3.6.3"
  }
 },
 "nbformat": 4,
 "nbformat_minor": 2
}
