{
 "cells": [
  {
   "cell_type": "code",
   "execution_count": 1,
   "metadata": {
    "collapsed": true
   },
   "outputs": [],
   "source": [
    "import numpy as np"
   ]
  },
  {
   "cell_type": "code",
   "execution_count": 2,
   "metadata": {
    "collapsed": true
   },
   "outputs": [],
   "source": [
    "from sklearn.naive_bayes import MultinomialNB as MNB"
   ]
  },
  {
   "cell_type": "code",
   "execution_count": 23,
   "metadata": {},
   "outputs": [
    {
     "name": "stdout",
     "output_type": "stream",
     "text": [
      "['pos']\n"
     ]
    }
   ],
   "source": [
    "docs = np.array([[3,0,3],[0,1,2],[1,3,0],[1,5,2],[0,2,0]])\n",
    "classes = np.array([\"pos\",\"pos\",\"neg\",\"neg\",\"neg\"])\n",
    "clf = MNB()\n",
    "clf.fit(docs,classes)\n",
    "sentence = np.array([[2,1,1]])\n",
    "print(clf.predict(sentence))"
   ]
  },
  {
   "cell_type": "code",
   "execution_count": 22,
   "metadata": {},
   "outputs": [
    {
     "name": "stdout",
     "output_type": "stream",
     "text": [
      "['neg']\n"
     ]
    }
   ],
   "source": [
    "docsbin = np.array([[1,0,1],[0,1,1],[1,1,0],[1,1,1],[0,1,0]])\n",
    "classes = np.array([\"pos\",\"pos\",\"neg\",\"neg\",\"neg\"])\n",
    "clfbin = MNB()\n",
    "clfbin.fit(docsbin,classes)\n",
    "sentencebin = np.array([[1,1,1]])\n",
    "print(clfbin.predict(sentencebin))"
   ]
  },
  {
   "cell_type": "code",
   "execution_count": null,
   "metadata": {
    "collapsed": true
   },
   "outputs": [],
   "source": []
  }
 ],
 "metadata": {
  "kernelspec": {
   "display_name": "Python 3",
   "language": "python",
   "name": "python3"
  },
  "language_info": {
   "codemirror_mode": {
    "name": "ipython",
    "version": 3
   },
   "file_extension": ".py",
   "mimetype": "text/x-python",
   "name": "python",
   "nbconvert_exporter": "python",
   "pygments_lexer": "ipython3",
   "version": "3.6.3"
  }
 },
 "nbformat": 4,
 "nbformat_minor": 2
}
