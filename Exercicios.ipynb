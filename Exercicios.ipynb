{
 "cells": [
  {
   "cell_type": "markdown",
   "metadata": {},
   "source": [
    "# Testes iniciais"
   ]
  },
  {
   "cell_type": "code",
   "execution_count": 5,
   "metadata": {},
   "outputs": [
    {
     "name": "stdout",
     "output_type": "stream",
     "text": [
      "python\n",
      "is cool\n",
      "python ... is cool\n",
      "(1, 2, 3)\n",
      "[1, 2, 3]\n",
      "[2, 3]\n",
      "{'host': 'earth'}\n",
      "host earth host\n"
     ]
    }
   ],
   "source": [
    "pystr='python\\nis cool'\n",
    "pystr\n",
    "print(pystr)\n",
    "pystr2 = '''python ... is cool'''\n",
    "print(pystr2)\n",
    "tup=(1,2,3)\n",
    "print(tup)\n",
    "lis=[1,2,3]\n",
    "print(lis)\n",
    "lis=lis[1:3]\n",
    "print(lis)\n",
    "aDict = {'host': 'earth'} \n",
    "print(aDict)\n",
    "for key in aDict: \n",
    "    print(key, aDict[key]+\" \"+key)"
   ]
  },
  {
   "cell_type": "markdown",
   "metadata": {},
   "source": [
    "### NLP Problem Set 1"
   ]
  },
  {
   "cell_type": "markdown",
   "metadata": {},
   "source": [
    "#### Problem 1."
   ]
  },
  {
   "cell_type": "code",
   "execution_count": 202,
   "metadata": {},
   "outputs": [
    {
     "name": "stdout",
     "output_type": "stream",
     "text": [
      "['String', 'lista', 'Cão', 'comida', 'António', 'alfabeto']\n"
     ]
    }
   ],
   "source": [
    "stringlist= [\"alfabeto\", \"Cão\", \"comida\", \"António\", \"String\", \"lista\"]\n",
    "stringlist.sort(key=str.lower,reverse=True)\n",
    "print(stringlist)"
   ]
  },
  {
   "cell_type": "code",
   "execution_count": 3,
   "metadata": {},
   "outputs": [
    {
     "name": "stdout",
     "output_type": "stream",
     "text": [
      "a b c d e f g\n"
     ]
    }
   ],
   "source": [
    "texto=\"    a b c d e f g      \"\n",
    "x=0\n",
    "j=0\n",
    "checker=False\n",
    "while checker==False:\n",
    "    if texto[x]==\" \":\n",
    "        j=x\n",
    "    else:\n",
    "        checker=True\n",
    "    x=x+1\n",
    "texto=texto[j+1:]\n",
    "texto=texto[::-1]\n",
    "checker=False\n",
    "while checker==False:\n",
    "    if texto[x]==\" \":\n",
    "        j=x\n",
    "    else:\n",
    "        checker=True\n",
    "    x=x+1\n",
    "texto=texto[j+1:]\n",
    "texto=texto[::-1]\n",
    "print(texto)"
   ]
  },
  {
   "cell_type": "code",
   "execution_count": 3,
   "metadata": {},
   "outputs": [
    {
     "name": "stdout",
     "output_type": "stream",
     "text": [
      "ahpla\n"
     ]
    }
   ],
   "source": [
    "x=\"alpha\"\n",
    "x=x[::-1]\n",
    "print(x)"
   ]
  },
  {
   "cell_type": "code",
   "execution_count": 153,
   "metadata": {
    "collapsed": true
   },
   "outputs": [],
   "source": [
    "def my_strstrip(txt):\n",
    "    def remove_trail(txt):\n",
    "        i = 0\n",
    "        while txt[i] == \" \":\n",
    "          i += 1\n",
    "        txt = txt[i:]\n",
    "        return txt\n",
    "    txt = remove_trail(txt)\n",
    "    txt = txt[::-1]\n",
    "    txt = remove_trail(txt)\n",
    "    txt = txt[::-1]\n",
    "    return txt"
   ]
  },
  {
   "cell_type": "code",
   "execution_count": 154,
   "metadata": {},
   "outputs": [
    {
     "name": "stdout",
     "output_type": "stream",
     "text": [
      "a b c d e f g\n"
     ]
    }
   ],
   "source": [
    "texto = \"    a b c d e f g      \"\n",
    "print(my_strstrip(texto))"
   ]
  },
  {
   "cell_type": "code",
   "execution_count": 14,
   "metadata": {},
   "outputs": [
    {
     "data": {
      "text/plain": [
       "32"
      ]
     },
     "execution_count": 14,
     "metadata": {},
     "output_type": "execute_result"
    }
   ],
   "source": [
    "ord('a')-ord('A')"
   ]
  },
  {
   "cell_type": "code",
   "execution_count": 69,
   "metadata": {
    "collapsed": true
   },
   "outputs": [],
   "source": [
    "def subpos(string, pos, newchar):\n",
    "    if pos == 0:\n",
    "        string = newchar + string[1:]\n",
    "    elif pos == len(txt)-1:\n",
    "        string = string[:len(txt)-1] + newchar\n",
    "    else:\n",
    "        string = string[:pos] + newchar + string[pos+1:]\n",
    "    return string"
   ]
  },
  {
   "cell_type": "code",
   "execution_count": 72,
   "metadata": {
    "collapsed": true
   },
   "outputs": [],
   "source": [
    "def invertedcaps(txt):\n",
    "    i = -1\n",
    "    for c in txt:\n",
    "        i += 1\n",
    "        if txt[i].islower() == True:\n",
    "            var1 = chr(ord(txt[i])-32)\n",
    "        elif txt[i].isupper() == True:\n",
    "            var1 = chr(ord(txt[i])+32)\n",
    "        else:\n",
    "            var1 = txt[i]\n",
    "        txt = subpos(txt, i, var1)\n",
    "    return txt"
   ]
  },
  {
   "cell_type": "code",
   "execution_count": 83,
   "metadata": {},
   "outputs": [
    {
     "name": "stdout",
     "output_type": "stream",
     "text": [
      "abaCate, PepiNO\n",
      "ABAcATE, pEPIno\n"
     ]
    }
   ],
   "source": [
    "txt=\"abaCate, PepiNO\"\n",
    "print(txt)\n",
    "print(invertedcaps(txt))"
   ]
  },
  {
   "cell_type": "code",
   "execution_count": 117,
   "metadata": {
    "collapsed": true
   },
   "outputs": [],
   "source": [
    "def findchr(string, char):\n",
    "    i = -1\n",
    "    j = -1\n",
    "    while i < len(string)-1:\n",
    "        i += 1\n",
    "        if string[i] == char:\n",
    "            j = i\n",
    "            break\n",
    "    return j"
   ]
  },
  {
   "cell_type": "code",
   "execution_count": 102,
   "metadata": {
    "collapsed": true
   },
   "outputs": [],
   "source": [
    "def findallchr(string, char):\n",
    "    j = -1\n",
    "    vec=[-1]\n",
    "    for i in range(len(string)):\n",
    "        if string[i] == char:\n",
    "            j += 1\n",
    "            if j == 0:\n",
    "                vec[0] = i\n",
    "            else:\n",
    "                vec.append(i)\n",
    "    return vec"
   ]
  },
  {
   "cell_type": "code",
   "execution_count": 118,
   "metadata": {},
   "outputs": [
    {
     "data": {
      "text/plain": [
       "-1"
      ]
     },
     "execution_count": 118,
     "metadata": {},
     "output_type": "execute_result"
    }
   ],
   "source": [
    "findchr(\"batata\", \"c\")"
   ]
  },
  {
   "cell_type": "code",
   "execution_count": 119,
   "metadata": {},
   "outputs": [
    {
     "data": {
      "text/plain": [
       "[1, 3, 5]"
      ]
     },
     "execution_count": 119,
     "metadata": {},
     "output_type": "execute_result"
    }
   ],
   "source": [
    "findallchr(\"batata\", \"a\")"
   ]
  },
  {
   "cell_type": "code",
   "execution_count": 74,
   "metadata": {
    "collapsed": true
   },
   "outputs": [],
   "source": [
    "def subfirstchr(string, origchar, newchar):\n",
    "    i = findchr(string,origchar)\n",
    "    string = subpos(string, i, newchar)\n",
    "    return string"
   ]
  },
  {
   "cell_type": "code",
   "execution_count": 108,
   "metadata": {
    "collapsed": true
   },
   "outputs": [],
   "source": [
    "def suballchr(string, origchar, newchar):\n",
    "    lista = findallchr(string, origchar)\n",
    "    for eachnum in lista:\n",
    "        string = subpos(string, eachnum, newchar)\n",
    "    return string"
   ]
  },
  {
   "cell_type": "code",
   "execution_count": 75,
   "metadata": {},
   "outputs": [
    {
     "data": {
      "text/plain": [
       "'bctata'"
      ]
     },
     "execution_count": 75,
     "metadata": {},
     "output_type": "execute_result"
    }
   ],
   "source": [
    "subfirstchr(\"batata\", \"a\", \"c\")"
   ]
  },
  {
   "cell_type": "code",
   "execution_count": 110,
   "metadata": {},
   "outputs": [
    {
     "data": {
      "text/plain": [
       "'bctctc fritc'"
      ]
     },
     "execution_count": 110,
     "metadata": {},
     "output_type": "execute_result"
    }
   ],
   "source": [
    "suballchr(\"batata frita\",\"a\",\"c\")"
   ]
  },
  {
   "cell_type": "markdown",
   "metadata": {},
   "source": [
    "#### Problem 2."
   ]
  },
  {
   "cell_type": "code",
   "execution_count": 219,
   "metadata": {},
   "outputs": [
    {
     "name": "stdout",
     "output_type": "stream",
     "text": [
      "{'almoço': 'Massa', 'Bebida': 'Água', 'Face': 'Cara', 'Amanhecer': 'Nascer do sol'}\n",
      "<class 'dict'>\n",
      "['Amanhecer', 'Bebida', 'Face', 'almoço']\n",
      "['almoço', 'Amanhecer', 'Bebida', 'Face']\n"
     ]
    }
   ],
   "source": [
    "dic={\"almoço\" : \"Massa\", \"Bebida\" : \"Água\", \"Face\" : \"Cara\", \"Amanhecer\" : \"Nascer do sol\"}\n",
    "print(dic)\n",
    "print(type(dic))\n",
    "print(sorted(dic))\n",
    "#para indiferenciar maiúsculas ou minúsculas\n",
    "lista = list(dic.keys())\n",
    "lista.sort(key = str.lower)\n",
    "print(lista)\n"
   ]
  },
  {
   "cell_type": "code",
   "execution_count": 239,
   "metadata": {
    "collapsed": true
   },
   "outputs": [],
   "source": [
    "def switchkeysvalues(dictionary):\n",
    "    listkeys = list(dictionary.keys())\n",
    "    listvalues = list(dictionary.values())\n",
    "    newdictionary = dict()\n",
    "    for i in range(len(listkeys)):\n",
    "        newdictionary[listvalues[i]] = listkeys[i]\n",
    "    return newdictionary"
   ]
  },
  {
   "cell_type": "code",
   "execution_count": 241,
   "metadata": {},
   "outputs": [
    {
     "data": {
      "text/plain": [
       "dict"
      ]
     },
     "execution_count": 241,
     "metadata": {},
     "output_type": "execute_result"
    }
   ],
   "source": [
    "print(switchkeysvalues(dic))"
   ]
  },
  {
   "cell_type": "code",
   "execution_count": 254,
   "metadata": {
    "collapsed": true
   },
   "outputs": [],
   "source": [
    "def squaredict():\n",
    "    newdictionary = dict()\n",
    "    for i in range(11) :\n",
    "        newdictionary[i] = i ** 2\n",
    "    return newdictionary"
   ]
  },
  {
   "cell_type": "code",
   "execution_count": 255,
   "metadata": {},
   "outputs": [
    {
     "data": {
      "text/plain": [
       "{0: 0, 1: 1, 2: 4, 3: 9, 4: 16, 5: 25, 6: 36, 7: 49, 8: 64, 9: 81, 10: 100}"
      ]
     },
     "execution_count": 255,
     "metadata": {},
     "output_type": "execute_result"
    }
   ],
   "source": [
    "squaredict()"
   ]
  },
  {
   "cell_type": "markdown",
   "metadata": {},
   "source": [
    "#### Problem 3."
   ]
  },
  {
   "cell_type": "code",
   "execution_count": 280,
   "metadata": {},
   "outputs": [
    {
     "name": "stdout",
     "output_type": "stream",
     "text": [
      "I returned from the City about three o'clock on that \n",
      "May afternoon pretty well disgusted with life. \n",
      "I had been three months in the Old Country, and was \n",
      "fed up with it. \n",
      "If anyone had told me a year ago that I would have \n",
      "been feeling like that I should have laughed at him; \n",
      "but there was the fact. \n",
      "The weather made me liverish, \n",
      "the talk of the ordinary Englishman made me sick, \n",
      "I couldn't get enough exercise, and the amusements \n",
      "of London seemed as flat as soda-water that \n",
      "has been standing in the sun. \n",
      "'Richard Hannay,' I kept telling myself, 'you \n",
      "have got into the wrong ditch, my friend, and \n",
      "you had better climb out.'\n",
      "\n"
     ]
    }
   ],
   "source": [
    "f = open(\"C:/Users/sergiojesus/Desktop/sample.txt\",\"r\")\n",
    "l = f.read()\n",
    "print(l)\n",
    "f.close"
   ]
  },
  {
   "cell_type": "code",
   "execution_count": 381,
   "metadata": {
    "collapsed": true
   },
   "outputs": [],
   "source": [
    "def countwordsfile(filepath):\n",
    "    with open(filepath,\"r\") as file:\n",
    "        text = file.read()\n",
    "        text = list(text.split())\n",
    "        print(len(text))\n",
    "        freq = list()\n",
    "        wordsfreq = dict()\n",
    "        words = list(set(text))\n",
    "        for i in range(len(words)):\n",
    "            freq.append(text.count(words[i]))\n",
    "    return [words,freq] "
   ]
  },
  {
   "cell_type": "code",
   "execution_count": 382,
   "metadata": {},
   "outputs": [
    {
     "name": "stdout",
     "output_type": "stream",
     "text": [
      "116\n",
      "[['Country,', 'kept', 'but', 'ago', 'you', 'of', 'into', 'the', 'fact.', \"o'clock\", 'myself,', 'London', 'City', 'sick,', 'that', 'three', 'on', 'with', 'was', 'me', 'my', 'sun.', 'has', 'ditch,', \"out.'\", 'friend,', 'Old', 'about', 'ordinary', 'get', 'it.', 'like', 'up', 'in', 'I', 'Englishman', 'anyone', 'exercise,', \"Hannay,'\", 'have', 'at', 'would', \"'you\", 'from', 'and', 'got', 'year', 'The', 'enough', 'climb', 'as', 'If', 'pretty', 'soda-water', 'him;', 'should', 'fed', 'wrong', 'a', 'well', 'feeling', 'liverish,', 'laughed', 'afternoon', 'weather', 'talk', 'had', 'there', 'flat', 'returned', 'telling', \"'Richard\", 'been', 'made', 'standing', 'May', \"couldn't\", 'months', 'amusements', 'disgusted', 'seemed', 'better', 'told', 'life.'], [1, 1, 1, 1, 1, 2, 1, 8, 1, 1, 1, 1, 1, 1, 4, 2, 1, 2, 2, 3, 1, 1, 1, 1, 1, 1, 1, 1, 1, 1, 1, 1, 1, 2, 6, 1, 1, 1, 1, 3, 1, 1, 1, 1, 3, 1, 1, 1, 1, 1, 2, 1, 1, 1, 1, 1, 1, 1, 1, 1, 1, 1, 1, 1, 1, 1, 3, 1, 1, 1, 1, 1, 3, 2, 1, 1, 1, 1, 1, 1, 1, 1, 1, 1]]\n"
     ]
    }
   ],
   "source": [
    "dados=countwordsfile(\"C:/Users/sergiojesus/Desktop/sample.txt\")\n",
    "print(dados)"
   ]
  },
  {
   "cell_type": "code",
   "execution_count": 367,
   "metadata": {},
   "outputs": [
    {
     "name": "stdout",
     "output_type": "stream",
     "text": [
      "84\n"
     ]
    }
   ],
   "source": [
    "soma=0\n",
    "for i in range(len(contador[1])):\n",
    "    soma += contador[1][i]\n",
    "soma\n",
    "print(len(dados))"
   ]
  },
  {
   "cell_type": "code",
   "execution_count": 420,
   "metadata": {},
   "outputs": [
    {
     "data": {
      "image/png": "[encoded data removed]",
      "text/plain": [
       "<matplotlib.figure.Figure at 0x160e11a1ba8>"
      ]
     },
     "metadata": {},
     "output_type": "display_data"
    }
   ],
   "source": [
    "import matplotlib.pyplot as plt\n",
    "plt.figure(figsize = (20,10))\n",
    "plt.hist(list(dados[1]),bins = 8, align=\"mid\", rwidth = 0.1)\n",
    "plt.xlabel(\"Palavras\")\n",
    "plt.ylabel(\"Frequência\")\n",
    "plt.show()"
   ]
  }
 ],
 "metadata": {
  "kernelspec": {
   "display_name": "Python 3",
   "language": "python",
   "name": "python3"
  },
  "language_info": {
   "codemirror_mode": {
    "name": "ipython",
    "version": 3
   },
   "file_extension": ".py",
   "mimetype": "text/x-python",
   "name": "python",
   "nbconvert_exporter": "python",
   "pygments_lexer": "ipython3",
   "version": "3.6.3"
  }
 },
 "nbformat": 4,
 "nbformat_minor": 2
}
