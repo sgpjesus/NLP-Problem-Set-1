{
 "cells": [
  {
   "cell_type": "code",
   "execution_count": 1,
   "metadata": {},
   "outputs": [],
   "source": [
    "import pandas as pd\n",
    "import numpy as np\n",
    "import spacy\n",
    "from sklearn.feature_extraction.text import CountVectorizer\n",
    "from spacy.tokenizer import Tokenizer\n",
    "from spacy.vocab import Vocab\n",
    "from spacy.language import Language"
   ]
  },
  {
   "cell_type": "code",
   "execution_count": 2,
   "metadata": {},
   "outputs": [],
   "source": [
    "nlp = Language(Vocab())\n",
    "tokenizer = Tokenizer(nlp.vocab)\n",
    "def tokenization_process(string):\n",
    "    aux = tokenizer(string)\n",
    "    output = list()\n",
    "    for word in aux:\n",
    "        output.append(str(word))\n",
    "    return output"
   ]
  },
  {
   "cell_type": "code",
   "execution_count": 3,
   "metadata": {},
   "outputs": [],
   "source": [
    "Traintable = pd.read_csv('Recursos/comments_toxicos/Dados/train.csv')"
   ]
  },
  {
   "cell_type": "code",
   "execution_count": 18,
   "metadata": {},
   "outputs": [],
   "source": [
    "label_cols = ['obscene','threat','insult','identity_hate']"
   ]
  },
  {
   "cell_type": "code",
   "execution_count": 6,
   "metadata": {},
   "outputs": [],
   "source": [
    "TF = CountVectorizer(max_df= 0.7 , min_df= 2, tokenizer = tokenization_process, ngram_range= (1,2),\n",
    "                     stop_words = 'english')\n",
    "TermFrequency = TF.fit_transform(Traintable.comment_text)"
   ]
  },
  {
   "cell_type": "code",
   "execution_count": 16,
   "metadata": {},
   "outputs": [],
   "source": [
    "def CBTW_vec(Term_Frequency_Matrix, Y):\n",
    "    A , B , C = [list(),list(),list()]\n",
    "    Y = Y.values\n",
    "    for column in range(Term_Frequency_Matrix.shape[1]):\n",
    "        aux_table = Term_Frequency_Matrix[:,column].toarray().flatten()\n",
    "        A.append((Y[aux_table !=0].sum())+1)\n",
    "        auxY = Y[aux_table !=0]\n",
    "        B.append((auxY.shape[0]-np.count_nonzero(auxY))+1)\n",
    "        C.append((Y[aux_table == 0].sum())+1)\n",
    "    A = np.array(A)\n",
    "    B = np.array(B)\n",
    "    C = np.array(C) \n",
    "    return np.log(1+(A/B)*(A/C))"
   ]
  },
  {
   "cell_type": "code",
   "execution_count": null,
   "metadata": {},
   "outputs": [],
   "source": [
    "CBTW_vector = list()\n",
    "CBTW_vector.append(CBTW_vec(TermFrequency,Traintable['obscene']))\n",
    "print('obscene')"
   ]
  },
  {
   "cell_type": "code",
   "execution_count": null,
   "metadata": {},
   "outputs": [],
   "source": []
  }
 ],
 "metadata": {
  "kernelspec": {
   "display_name": "Python 3",
   "language": "python",
   "name": "python3"
  },
  "language_info": {
   "codemirror_mode": {
    "name": "ipython",
    "version": 3
   },
   "file_extension": ".py",
   "mimetype": "text/x-python",
   "name": "python",
   "nbconvert_exporter": "python",
   "pygments_lexer": "ipython3",
   "version": "3.6.4"
  }
 },
 "nbformat": 4,
 "nbformat_minor": 2
}
