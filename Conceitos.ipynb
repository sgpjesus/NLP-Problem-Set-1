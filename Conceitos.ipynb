{
 "cells": [
  {
   "cell_type": "markdown",
   "metadata": {},
   "source": [
    "### List Comprehension"
   ]
  },
  {
   "cell_type": "code",
   "execution_count": 2,
   "metadata": {
    "collapsed": true
   },
   "outputs": [],
   "source": [
    "#Exemplo\n",
    "noprimes = [j for i in range(2, 60) for j in range(i*2, 60, i)] \n",
    "primes = [x for x in range(2, 60) if x not in noprimes] "
   ]
  },
  {
   "cell_type": "code",
   "execution_count": 6,
   "metadata": {
    "collapsed": true
   },
   "outputs": [],
   "source": [
    "j = [i for i in range(200) if i <= 10] #1ª tentativa"
   ]
  },
  {
   "cell_type": "code",
   "execution_count": 9,
   "metadata": {
    "collapsed": true
   },
   "outputs": [],
   "source": [
    "words = 'The quick brown fox jumps over the lazy dog'.split()\n",
    "stuff = [[w.upper(), w.lower(), len(w)] for w in words] #lista dentro de lista das palavras em uppercase, lowercase e tamanho\n",
    "new_range = [i ** 2 for i in range(7) if i % 2 == 0] #quadrados até 6 que são multiplos de 2, exclui 1, 9, 25"
   ]
  },
  {
   "cell_type": "markdown",
   "metadata": {},
   "source": [
    "### Generator Expression"
   ]
  },
  {
   "cell_type": "code",
   "execution_count": 23,
   "metadata": {
    "collapsed": true
   },
   "outputs": [],
   "source": [
    "g = (x**2 for x in range(10)) #cria uma expressão geradora de um número ao quadrado até 9²=81"
   ]
  },
  {
   "cell_type": "code",
   "execution_count": 24,
   "metadata": {},
   "outputs": [
    {
     "name": "stdout",
     "output_type": "stream",
     "text": [
      "0\n"
     ]
    }
   ],
   "source": [
    "print(next(g))"
   ]
  },
  {
   "cell_type": "markdown",
   "metadata": {},
   "source": [
    "###### (Fazer Exercicios)"
   ]
  },
  {
   "cell_type": "markdown",
   "metadata": {},
   "source": [
    "### Functions"
   ]
  },
  {
   "cell_type": "code",
   "execution_count": 25,
   "metadata": {
    "collapsed": true
   },
   "outputs": [],
   "source": [
    "def isprime(number):\n",
    "    i = 2\n",
    "    while i <= number ** 0.5:\n",
    "        if number % i == 0:\n",
    "            return False\n",
    "        i += 1\n",
    "    return True"
   ]
  },
  {
   "cell_type": "code",
   "execution_count": 27,
   "metadata": {
    "collapsed": true
   },
   "outputs": [],
   "source": [
    "def primetables(maxvalue): #Método do crivo de Eratóstenes\n",
    "    primelist = [i for i in range(2,maxvalue+1)]\n",
    "    for i in range(2, int(maxvalue**0.5)):\n",
    "        multiplelist = [j for j in range (i*2, maxvalue+1, i)] #passo da range\n",
    "        for k in multiplelist:\n",
    "            for l in primelist:\n",
    "                if k == l :\n",
    "                    primelist.remove(l)\n",
    "    return primelist"
   ]
  },
  {
   "cell_type": "code",
   "execution_count": 50,
   "metadata": {
    "collapsed": true
   },
   "outputs": [],
   "source": [
    "def min_edit_distance(source, target, delcost=1, inscost=1, subscost=2): #Default Objects\n",
    "    import numpy as np\n",
    "    n = len(source)+1\n",
    "    m = len(target)+1\n",
    "    d = np.zeros((n,m))\n",
    "    for i in range(1,n):\n",
    "        d[i,0] = d[i-1,0] + delcost #delete cost\n",
    "    for j in range(1,m):\n",
    "        d[0,j] = d[0,j-1] + inscost #insert cost\n",
    "    for i in range(1,n): \n",
    "        for j in range(1,m):\n",
    "            if source[i-1] == target[j-1]:\n",
    "                a = 0\n",
    "            else:\n",
    "                a = subscost #substitution cost\n",
    "            d[i,j]=min(d[i-1,j] + inscost, d[i,j-1] + delcost, d[i-1,j-1] + a)\n",
    "    print(d)\n",
    "    return int(d[n-1,m-1])"
   ]
  }
 ],
 "metadata": {
  "kernelspec": {
   "display_name": "Python 3",
   "language": "python",
   "name": "python3"
  },
  "language_info": {
   "codemirror_mode": {
    "name": "ipython",
    "version": 3
   },
   "file_extension": ".py",
   "mimetype": "text/x-python",
   "name": "python",
   "nbconvert_exporter": "python",
   "pygments_lexer": "ipython3",
   "version": "3.6.3"
  }
 },
 "nbformat": 4,
 "nbformat_minor": 2
}
